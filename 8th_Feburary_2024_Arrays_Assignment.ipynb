{
 "cells": [
  {
   "cell_type": "markdown",
   "id": "c1b7f0e0-9900-46db-b2ee-1654662180a3",
   "metadata": {},
   "source": [
    "#                                            Arrays Assignment"
   ]
  },
  {
   "cell_type": "code",
   "execution_count": 4,
   "id": "f5f5f50e-8a1e-4aa0-b69a-69bd85267447",
   "metadata": {},
   "outputs": [
    {
     "name": "stdout",
     "output_type": "stream",
     "text": [
      "True\n"
     ]
    }
   ],
   "source": [
    "# 1. Given an array, check if it contains any duplicates or not.\n",
    "#.  arr = [1, 2, 4, 2, 5, 9]\n",
    "#.  Output = True\n",
    "\n",
    "def contains_duplicates(arr):\n",
    "    seen = set()\n",
    "    for num in arr:\n",
    "        if num in seen:\n",
    "            return True\n",
    "        seen.add(num)\n",
    "    return False\n",
    "\n",
    "arr = [1,2,4,2,5,9]\n",
    "\n",
    "output = contains_duplicates(arr)\n",
    "\n",
    "print(output)  # Output : True"
   ]
  },
  {
   "cell_type": "code",
   "execution_count": 6,
   "id": "0646c9d4-5576-4b36-aef1-a5f26d48ec0b",
   "metadata": {},
   "outputs": [
    {
     "name": "stdout",
     "output_type": "stream",
     "text": [
      "[5, 6, 7, 1, 2, 3, 4]\n"
     ]
    }
   ],
   "source": [
    "# 2. Given an array and an integer k, rotate the array to the right by k steps.\n",
    "#   arr = [1, 2, 3, 4, 5, 6, 7] k = 3\n",
    "#.  Output = [5, 6, 7, 1, 2, 3, 4]\n",
    "\n",
    "def rotate_array(arr, k):\n",
    "    n = len(arr)\n",
    "    k = k % n  \n",
    "    \n",
    "    # Rotate the array using slicing\n",
    "    arr[:] = arr[n - k:] + arr[:n - k]\n",
    "    \n",
    "arr = [1,2,3,4,5,6,7]\n",
    "k = 3\n",
    "rotate_array(arr, k)\n",
    "print(arr)  # outpue ; [5,6,7,1,2,3,4]"
   ]
  },
  {
   "cell_type": "code",
   "execution_count": 7,
   "id": "98b7548c-6dfe-4395-842d-29a566e52e5d",
   "metadata": {},
   "outputs": [
    {
     "name": "stdout",
     "output_type": "stream",
     "text": [
      "[12, 9, 7, 5, 4, 2]\n"
     ]
    }
   ],
   "source": [
    "# 3. Reverse the given array in-place, means without using any extra data structure.\n",
    "#    arr = [2, 4, 5, 7, 9, 12]\n",
    "#.   Output = [12, 9, 7, 5, 4, 2]\n",
    "\n",
    "def reverse_array(arr):\n",
    "    left = 0\n",
    "    right = len(arr) - 1\n",
    "    \n",
    "    while left < right:\n",
    "        # Swap elements at left and right indices\n",
    "        arr[left], arr[right] = arr[right], arr[left]\n",
    "        left += 1\n",
    "        right -= 1\n",
    "        \n",
    "arr = [2,4,5,7,9,12]\n",
    "reverse_array(arr)\n",
    "print(arr) \n",
    "\n",
    "# Output = [12,9,7,5,4,2]"
   ]
  },
  {
   "cell_type": "code",
   "execution_count": 9,
   "id": "47106e7c-4a73-4aae-ad42-2bfc806a1a8b",
   "metadata": {},
   "outputs": [
    {
     "name": "stdout",
     "output_type": "stream",
     "text": [
      "20\n"
     ]
    }
   ],
   "source": [
    "# 4. Given an array of integers, find the maximum element in an array\n",
    "#.   arr = [10, 5, 20, 8, 15]\n",
    "#.   Output = 20\n",
    "\n",
    "def find_max(arr):\n",
    "    max_element = arr[0]  # Initialize max_element with the firset element of the array\n",
    "    \n",
    "    # Itrate thro=ugh the arrya starting from the second element\n",
    "    for num in arr[1:]:\n",
    "        if num > max_element:\n",
    "            max_element = num\n",
    "            \n",
    "    return max_element\n",
    "\n",
    "arr = [10,5,20,8,15]\n",
    "output = find_max(arr)\n",
    "print(output)\n",
    "\n",
    "# Output: 20"
   ]
  },
  {
   "cell_type": "code",
   "execution_count": 11,
   "id": "32d3ecac-3fde-4de4-8bfc-b23f3401a95a",
   "metadata": {},
   "outputs": [
    {
     "name": "stdout",
     "output_type": "stream",
     "text": [
      "[1, 2, 3, 4, 5]\n"
     ]
    }
   ],
   "source": [
    "# 5. Given a sorted array, remove the duplicate element without using any extra data structure.\n",
    "#.   arr = [1, 1, 2, 2, 2, 3, 3, 4, 4, 4, 5, 5]\n",
    "#.   Output = [1, 2, 3, 4, 5]\n",
    "\n",
    "def remove_duplicates(arr):\n",
    "    if not arr:\n",
    "        return 0\n",
    "    \n",
    "    # Initialize a pointer to keep track of the lase index of non duplicate elements\n",
    "    non_duplicate_index = 0\n",
    "    \n",
    "    # Iterate through the array starting from the second element\n",
    "    for i in range(1, len(arr)):\n",
    "        \n",
    "        # If the current element is not equal to the element at non_duplicate_index,\n",
    "        # Update non_duplicate_index and copy the current element to its position\n",
    "        if arr[i] != arr[non_duplicate_index]:\n",
    "            non_duplicate_index += 1\n",
    "            arr[non_duplicate_index] = arr[i]\n",
    "            \n",
    "    # Return the length of the array up to non_duplicate_index\n",
    "    return non_duplicate_index + 1\n",
    "\n",
    "arr = [1,1,2,2,2,3,3,4,4,4,5,5]\n",
    "length = remove_duplicates(arr)\n",
    "print(arr[:length]) \n",
    "\n",
    "# Output: [1, 2, 3, 4, 5]"
   ]
  },
  {
   "cell_type": "code",
   "execution_count": null,
   "id": "e8fd0316-07b8-4aff-8950-dec0df769292",
   "metadata": {},
   "outputs": [],
   "source": []
  }
 ],
 "metadata": {
  "kernelspec": {
   "display_name": "Python 3 (ipykernel)",
   "language": "python",
   "name": "python3"
  },
  "language_info": {
   "codemirror_mode": {
    "name": "ipython",
    "version": 3
   },
   "file_extension": ".py",
   "mimetype": "text/x-python",
   "name": "python",
   "nbconvert_exporter": "python",
   "pygments_lexer": "ipython3",
   "version": "3.10.8"
  }
 },
 "nbformat": 4,
 "nbformat_minor": 5
}
